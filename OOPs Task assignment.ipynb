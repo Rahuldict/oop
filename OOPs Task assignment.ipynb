{
 "cells": [
  {
   "cell_type": "code",
   "execution_count": 4,
   "id": "761a6529-90e7-4a45-86e8-9a9f10b61186",
   "metadata": {},
   "outputs": [],
   "source": [
    "#Q1, Create a vehicle class with an init method having instance variables as name_of_vehicle, max_speed and average_of_vehicle."
   ]
  },
  {
   "cell_type": "code",
   "execution_count": 8,
   "id": "ecbaebcb-c795-4391-8635-936feccd7085",
   "metadata": {},
   "outputs": [],
   "source": [
    "# ans = Create a vehicle class with an init method having instance variables as name_of_vehicle, max_speed and average_of_vehicle.\n",
    "\n",
    "class Vehicle:\n",
    "    def __init__(self, name_of_vehicle, max_speed, average_of_vehicle):\n",
    "        self.name_of_vehicle = name_of_vehicle\n",
    "        self.max_speed = max_speed\n",
    "        self.average_of_vehicle = average_of_vehicle\n"
   ]
  },
  {
   "cell_type": "code",
   "execution_count": 9,
   "id": "e44d663a-7fad-4f30-a160-3071b98aed5e",
   "metadata": {},
   "outputs": [],
   "source": [
    "#Q2. Create a child class car from the vehicle class created in Que 1, which will inherit the vehicle class.\n",
    "#Create a method named seating_capacity which takes capacity as an argument and returns the name of the vehicle and its seating capacity."
   ]
  },
  {
   "cell_type": "code",
   "execution_count": 10,
   "id": "8aebc002-77e2-441f-90c0-9da9148ee9e2",
   "metadata": {},
   "outputs": [],
   "source": [
    "# Create a child class car from the vehicle class created in Que 1, which will inherit the vehicle class.\n",
    "# Create a method named seating_capacity which takes capacity as an argument and returns the name of\n",
    "# the vehicle and its seating capacity.\n",
    "\n",
    "class Car(Vehicle):\n",
    "    def seating_capacity(self, capacity):\n",
    "        return f\"The {self.name_of_vehicle} has a seating capacity of {capacity} people.\"\n"
   ]
  },
  {
   "cell_type": "code",
   "execution_count": 11,
   "id": "31b428d6-8a3f-4b44-a8cf-3d1e29f00c8b",
   "metadata": {},
   "outputs": [],
   "source": [
    "#Q3. What is multiple inheritance? Write a python code to demonstrate multiple inheritance."
   ]
  },
  {
   "cell_type": "code",
   "execution_count": 12,
   "id": "dcd4f700-026a-4dd9-b12c-216b81c81ba9",
   "metadata": {},
   "outputs": [],
   "source": [
    "class Animal:\n",
    "    def __init__(self, name):\n",
    "        self.name = name\n",
    "\n",
    "    def eat(self):\n",
    "        print(f\"{self.name} is eating.\")\n",
    "\n",
    "class Bird:\n",
    "    def __init__(self, name):\n",
    "        self.name = name\n",
    "\n",
    "    def fly(self):\n",
    "        print(f\"{self.name} is flying.\")\n",
    "\n",
    "# We can create a child class that inherits from both Animal and Bird, such as Penguin.\n",
    "class Penguin(Animal, Bird):\n",
    "    def __init__(self, name):\n",
    "        # We can use super() to call the init methods of both parents.\n",
    "        super().__init__(name)\n",
    "\n",
    "    def swim(self):\n",
    "        print(f\"{self.name} is swimming.\")"
   ]
  },
  {
   "cell_type": "code",
   "execution_count": 13,
   "id": "4c73c82e-a4cc-4eb1-835f-86acf56fe962",
   "metadata": {},
   "outputs": [
    {
     "name": "stdout",
     "output_type": "stream",
     "text": [
      "Pingu is eating.\n",
      "Pingu is flying.\n",
      "Pingu is swimming.\n"
     ]
    }
   ],
   "source": [
    "p = Penguin(\"Pingu\")\n",
    "p.eat()\n",
    "p.fly()\n",
    "p.swim()"
   ]
  },
  {
   "cell_type": "code",
   "execution_count": 14,
   "id": "b5f8409f-3819-4cc7-8272-c856ebea7834",
   "metadata": {},
   "outputs": [],
   "source": [
    "#Q4. What are getter and setter in python? Create a class and create a getter and a setter method in this class."
   ]
  },
  {
   "cell_type": "code",
   "execution_count": 24,
   "id": "1f339bda-b8de-4a50-a7ae-9d7d8d301f65",
   "metadata": {},
   "outputs": [],
   "source": [
    "class Student:\n",
    "    def __init__(self, name):\n",
    "        self._name = name\n",
    "\n",
    "    # We can create a getter method for _name using @property.\n",
    "    @property\n",
    "    def name(self):\n",
    "        return self._name\n",
    "\n",
    "    # We can create a setter method for _name using @name.setter.\n",
    "    @name.setter\n",
    "    def name(self, new_name):\n",
    "        self._name = new_name\n",
    "\n"
   ]
  },
  {
   "cell_type": "code",
   "execution_count": 25,
   "id": "8413b021-4b6c-46fa-8dc0-c1b4f6c184cc",
   "metadata": {},
   "outputs": [],
   "source": [
    "s = Student(\"Rahul\")"
   ]
  },
  {
   "cell_type": "code",
   "execution_count": 26,
   "id": "de438ca9-5dab-4894-99b4-d8b991839c3c",
   "metadata": {},
   "outputs": [
    {
     "name": "stdout",
     "output_type": "stream",
     "text": [
      "Rahul\n"
     ]
    }
   ],
   "source": [
    "print(s.name)"
   ]
  },
  {
   "cell_type": "code",
   "execution_count": 27,
   "id": "f1a20e52-948c-418f-9405-43cffbd1ee64",
   "metadata": {},
   "outputs": [],
   "source": [
    "s.name = \"Pawar\"\n"
   ]
  },
  {
   "cell_type": "code",
   "execution_count": 28,
   "id": "29af2bda-c775-4461-82ba-cd469c5b6136",
   "metadata": {},
   "outputs": [
    {
     "name": "stdout",
     "output_type": "stream",
     "text": [
      "Pawar\n"
     ]
    }
   ],
   "source": [
    "print(s.name)"
   ]
  },
  {
   "cell_type": "code",
   "execution_count": 29,
   "id": "d6b55d6a-8419-4f6c-9698-961f08d7fc16",
   "metadata": {},
   "outputs": [],
   "source": [
    "#What is method overriding in python? Write a python code to demonstrate method overriding."
   ]
  },
  {
   "cell_type": "code",
   "execution_count": 30,
   "id": "f9568e2c-37c0-4eaa-b6a9-431646bddd30",
   "metadata": {},
   "outputs": [],
   "source": [
    "class Shape:\n",
    "    def area(self):\n",
    "        print(\"The area of this shape is unknown.\")\n",
    "\n",
    "# We can create a child class that inherits from Shape, such as Circle, and override the area method.\n",
    "class Circle(Shape):\n",
    "    def __init__(self, radius):\n",
    "        self.radius = radius\n",
    "\n",
    "    # We can override the area method by defining it with the same name as the parent's method.\n",
    "    def area(self):\n",
    "        # We can use super() to call the parent's method if needed.\n",
    "        super().area()\n",
    "        # We can provide our own implementation of the method.\n",
    "        print(f\"The area of this circle is {3.14 * self.radius ** 2}.\")  \n",
    "        \n",
    "        "
   ]
  },
  {
   "cell_type": "code",
   "execution_count": 31,
   "id": "b679514e-0468-45aa-9ca7-bdc00cdf6051",
   "metadata": {},
   "outputs": [],
   "source": [
    "c = Circle(5)\n"
   ]
  },
  {
   "cell_type": "code",
   "execution_count": 32,
   "id": "2525423b-0c13-4eeb-bcc2-cb33f82acd9a",
   "metadata": {},
   "outputs": [
    {
     "name": "stdout",
     "output_type": "stream",
     "text": [
      "The area of this shape is unknown.\n",
      "The area of this circle is 78.5.\n"
     ]
    }
   ],
   "source": [
    "c.area()"
   ]
  },
  {
   "cell_type": "code",
   "execution_count": null,
   "id": "7243b367-51c1-478f-8402-42ad7f6b30a7",
   "metadata": {},
   "outputs": [],
   "source": []
  }
 ],
 "metadata": {
  "kernelspec": {
   "display_name": "Python 3 (ipykernel)",
   "language": "python",
   "name": "python3"
  },
  "language_info": {
   "codemirror_mode": {
    "name": "ipython",
    "version": 3
   },
   "file_extension": ".py",
   "mimetype": "text/x-python",
   "name": "python",
   "nbconvert_exporter": "python",
   "pygments_lexer": "ipython3",
   "version": "3.10.8"
  }
 },
 "nbformat": 4,
 "nbformat_minor": 5
}
